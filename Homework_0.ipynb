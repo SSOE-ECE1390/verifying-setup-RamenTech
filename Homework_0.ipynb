{
 "cells": [
  {
   "cell_type": "markdown",
   "metadata": {},
   "source": [
    "# <font style=\"color:black\">Lecture 1: Homework Problem</font>\n",
    "\n",
    "In this first homework set, I want you to make sure that you can use GitHub, MS Code, and OpenCV.\n",
    "You should (already to be able to read this document), clone the Github classroom assignment and edit it in VS Code.  In this python notebook, do the following:\n",
    "\n",
    "* Load an (Grayscale) image  (‘Data/Apollo_11_Launch.jpg’)\n",
    "* View image\n",
    "* Crop image\n",
    "* Edit brightness of image\n",
    "* Rotate image\n",
    "* Save modified image"
   ]
  },
  {
   "cell_type": "code",
   "execution_count": null,
   "metadata": {},
   "outputs": [
    {
     "data": {
      "text/plain": [
       "True"
      ]
     },
     "execution_count": 2,
     "metadata": {},
     "output_type": "execute_result"
    }
   ],
   "source": [
    "import cv2\n",
    "import math\n",
    "import numpy as np\n",
    "\n",
    "# Load Gray Scale Image\n",
    "img = cv2.imread('Data/Apollo_11_Launch.jpg',cv2.IMREAD_COLOR)\n",
    "\n",
    "# View Image\n",
    "cv2.imshow(\"Original Photo\",img)\n",
    "cv2.waitKey(0)\n",
    "cv2.destroyAllWindows()\n",
    "\n",
    "# Crop Image\n",
    "h, w, c = img.shape\n",
    "halfHeight = math.floor(h/2)\n",
    "halfWidth = math.floor(w/2)\n",
    "croppedImage = img[halfHeight:h,halfWidth:w] # Crops the bottom right quadrant of the image\n",
    "\n",
    "cv2.imshow(\"Cropped\",croppedImage)\n",
    "cv2.waitKey(0)\n",
    "cv2.destroyAllWindows()\n",
    "\n",
    "# Edit Brightness\n",
    "\n",
    "# Using the formula: new_Image = a * Old_Image + b\n",
    "beta = 90 # Adds brightness by 90\n",
    "\n",
    "# This method takes too long\n",
    "# brightImage = np.zeros(img.shape, img.dtype)\n",
    "# for y in range(img.shape[0]):\n",
    "#     for x in range(img.shape[1]):\n",
    "#         for c in range(img.shape[2]):\n",
    "#             brightImage[y,x,c] = np.clip(img[y,x,c] + beta, 0, 255)\n",
    "\n",
    "# Instead I use the cv2.convertScaleAbs using the same alpha, but different beta\n",
    "brightImage = cv2.convertScaleAbs(croppedImage, alpha = 1.0, beta = beta)\n",
    "\n",
    "cv2.imshow(\"Bright Image\", brightImage)\n",
    "cv2.waitKey()\n",
    "cv2.destroyAllWindows()\n",
    "\n",
    "# Rotate Image\n",
    "rot90 = cv2.rotate(brightImage, cv2.ROTATE_90_CLOCKWISE)\n",
    "cv2.imshow(\"Rotate 90 CW\", rot90)\n",
    "\n",
    "cv2.waitKey(0)\n",
    "cv2.destroyAllWindows()\n",
    "# Save Image\n",
    "filename = \"modifiedImage.jpg\"\n",
    "cv2.imwrite(filename, rot90)\n"
   ]
  }
 ],
 "metadata": {
  "kernelspec": {
   "display_name": "ECE1390",
   "language": "python",
   "name": "python3"
  },
  "language_info": {
   "codemirror_mode": {
    "name": "ipython",
    "version": 3
   },
   "file_extension": ".py",
   "mimetype": "text/x-python",
   "name": "python",
   "nbconvert_exporter": "python",
   "pygments_lexer": "ipython3",
   "version": "3.12.11"
  }
 },
 "nbformat": 4,
 "nbformat_minor": 2
}
